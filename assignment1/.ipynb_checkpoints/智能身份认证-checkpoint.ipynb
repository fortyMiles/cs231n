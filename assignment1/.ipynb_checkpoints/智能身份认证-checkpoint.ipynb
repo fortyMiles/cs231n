{
 "cells": [
  {
   "cell_type": "markdown",
   "metadata": {},
   "source": [
    "### 智能身份认证\n",
    "\n",
    "#### 基本原理： \n",
    "\n",
    "使用机器学习，尤其是深度神经网络的方式，进行自适应训练。 计算机通过识别大量包含各种人脸的图片集，然后能够得到人脸的深度特征，之后在获得新的两种输入的时候，计算机能够得知两张图像是否是同一个人。 \n",
    "\n",
    "#### 实现工具：\n",
    "\n",
    "工具： Google Tensorflow， Keras， numpy， sklearn 等开源工具。 \n",
    "\n",
    "算法：\n",
    "+ 循环神经网络（Recurrent Neural Network）\n",
    "+ 递归神经网络（Recursive Neural Network）\n",
    "+ 卷积神经网络 （Convolutional Neural Network）\n",
    "+ PCA & ICA 主成分分析与提取\n",
    "+ 生物特征识别\n",
    "\n",
    "#### 过程： \n",
    "\n",
    "1. 收集大量的用户图像，大约 20万 - 100万，其中每个用户的图像至少两张；\n",
    "2. 对数据进行清洗，进行数据归一化（normalization），标准化等工作；\n",
    "3. 依据递归神经设计深度神经网络，以图像为输入，每次输入两个图像，并告知计算机此两张图像是否为同一个人；\n",
    "4. 计算机根据人工定义的神经网络，自动提取特征，并对自身网络进行更新；\n",
    "5. 重复以上工作，不断调整训练网络并不断增加训练数据，并使用未经过训练的数据进行检测；\n",
    "6. 当使用未经过检测的数据进行检测，精确度达到某个期望值，并保持稳定时，保存该模型；\n",
    "7. 基于以上初步训练完成的模型，通过摄像头实时获取用户的图像，并计算预测结果；\n",
    "8. 根据用户摄像头的图像和计算机的计算，得到用户此时的位置，并告知用户如何进行位置调整；\n",
    "9. 重复以上步骤，直到用户正对摄像头；\n",
    "10. 计算该用户是否为目标用户。\n",
    "\n",
    "#### 项目难点\n",
    "\n",
    "1. 大量数据的采集与数据的预处理；\n",
    "2. 如何设计适用于本项目的神经网络，保证运行时间和预测精度；\n",
    "3. 如何适应用户在不同位置，不同角度的图像；\n",
    "4. 如何在用户有偏离的时候与用户交互获得合适的角度。\n",
    "    \n",
    "#### 核心技术\n",
    "\n",
    "1. 深度神经网络的设计；\n",
    "2. 用户不同位置、角度的生物特征提取。"
   ]
  },
  {
   "cell_type": "code",
   "execution_count": null,
   "metadata": {
    "collapsed": true
   },
   "outputs": [],
   "source": []
  }
 ],
 "metadata": {
  "kernelspec": {
   "display_name": "Python 2",
   "language": "python",
   "name": "python2"
  },
  "language_info": {
   "codemirror_mode": {
    "name": "ipython",
    "version": 2
   },
   "file_extension": ".py",
   "mimetype": "text/x-python",
   "name": "python",
   "nbconvert_exporter": "python",
   "pygments_lexer": "ipython2",
   "version": "2.7.10"
  }
 },
 "nbformat": 4,
 "nbformat_minor": 0
}
