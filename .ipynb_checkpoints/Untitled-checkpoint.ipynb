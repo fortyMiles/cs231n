{
 "cells": [
  {
   "cell_type": "markdown",
   "metadata": {},
   "source": [
    "## Lecture-03 Note\n",
    "\n",
    "### Recall from last time. \n",
    "\n",
    "+ data-driven approach\n",
    "+ KNN \n",
    "+ Linear classifier \n",
    "+ interpretation of linear classifier.\n",
    "+ socre\n",
    "\n",
    "### Going Forward: Loss function/ Optimization\n",
    "\n",
    "TODO: \n",
    "\n",
    "1. how we define a loss function?\n",
    "\n",
    "-> define a loss function that quantifies our unhappiness with the scores across the training data. \n",
    "\n",
    "\n",
    "2.how to find good weights? (*optimization*)\n",
    " \n",
    "-> come up with a way of efficiently finding the parameters that minimize the loss function. \n",
    "\n",
    "\n"
   ]
  },
  {
   "cell_type": "code",
   "execution_count": null,
   "metadata": {
    "collapsed": true
   },
   "outputs": [],
   "source": []
  }
 ],
 "metadata": {
  "kernelspec": {
   "display_name": "Python 3",
   "language": "python",
   "name": "python3"
  },
  "language_info": {
   "codemirror_mode": {
    "name": "ipython",
    "version": 3
   },
   "file_extension": ".py",
   "mimetype": "text/x-python",
   "name": "python",
   "nbconvert_exporter": "python",
   "pygments_lexer": "ipython3",
   "version": "3.4.5"
  }
 },
 "nbformat": 4,
 "nbformat_minor": 2
}
